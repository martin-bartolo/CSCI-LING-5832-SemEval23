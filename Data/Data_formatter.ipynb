{
 "cells": [
  {
   "cell_type": "markdown",
   "metadata": {},
   "source": [
    "# To-Do:\n",
    "- Get the .json files to Pandas\n",
    "- Get the texts column, make those indiviual files"
   ]
  },
  {
   "cell_type": "code",
   "execution_count": 1,
   "metadata": {},
   "outputs": [],
   "source": [
    "import pandas as pd\n",
    "\n",
    "# read the data in\n",
    "dev_judgement_df = pd.read_json('NER_DEV_JUDGEMENT.json')\n",
    "dev_preamble_df = pd.read_json('NER_DEV_PREAMBLE.json')\n",
    "train_judgement_df = pd.read_json('NER_TRAIN_JUDGEMENT.json')\n",
    "train_preamble_df = pd.read_json('NER_TRAIN_PREAMBLE.json')"
   ]
  },
  {
   "cell_type": "code",
   "execution_count": 2,
   "metadata": {},
   "outputs": [],
   "source": [
    "def textOnly(df):\n",
    "    text_col = list(df['data'])\n",
    "    actual_text = []\n",
    "    for t in text_col:\n",
    "        actual_text.append(t['text'])\n",
    "        \n",
    "    re_text = pd.DataFrame(actual_text, columns=['Text'])\n",
    "    return re_text"
   ]
  },
  {
   "cell_type": "code",
   "execution_count": 3,
   "metadata": {},
   "outputs": [],
   "source": [
    "# get the text column (this one has whitespaces and orig formatting)\n",
    "dev_judgement_texts = textOnly(dev_judgement_df)\n",
    "dev_preamble_texts = textOnly(dev_preamble_df)\n",
    "train_judgement_texts = textOnly(train_judgement_df)\n",
    "train_preamble_texts = textOnly(train_preamble_df)"
   ]
  },
  {
   "cell_type": "code",
   "execution_count": 4,
   "metadata": {},
   "outputs": [
    {
     "data": {
      "text/html": [
       "<div>\n",
       "<style scoped>\n",
       "    .dataframe tbody tr th:only-of-type {\n",
       "        vertical-align: middle;\n",
       "    }\n",
       "\n",
       "    .dataframe tbody tr th {\n",
       "        vertical-align: top;\n",
       "    }\n",
       "\n",
       "    .dataframe thead th {\n",
       "        text-align: right;\n",
       "    }\n",
       "</style>\n",
       "<table border=\"1\" class=\"dataframe\">\n",
       "  <thead>\n",
       "    <tr style=\"text-align: right;\">\n",
       "      <th></th>\n",
       "      <th>Text</th>\n",
       "    </tr>\n",
       "  </thead>\n",
       "  <tbody>\n",
       "    <tr>\n",
       "      <th>0</th>\n",
       "      <td>True, our Constitution has no 'due process' cl...</td>\n",
       "    </tr>\n",
       "    <tr>\n",
       "      <th>1</th>\n",
       "      <td>(See Principles of Statutory Interpretation by...</td>\n",
       "    </tr>\n",
       "    <tr>\n",
       "      <th>2</th>\n",
       "      <td>Their Lordships have said --  \"It is a sound r...</td>\n",
       "    </tr>\n",
       "    <tr>\n",
       "      <th>3</th>\n",
       "      <td>In para 13 of the plaint, it has been further ...</td>\n",
       "    </tr>\n",
       "    <tr>\n",
       "      <th>4</th>\n",
       "      <td>Counsel for appellants contended that who is t...</td>\n",
       "    </tr>\n",
       "  </tbody>\n",
       "</table>\n",
       "</div>"
      ],
      "text/plain": [
       "                                                Text\n",
       "0  True, our Constitution has no 'due process' cl...\n",
       "1  (See Principles of Statutory Interpretation by...\n",
       "2  Their Lordships have said --  \"It is a sound r...\n",
       "3  In para 13 of the plaint, it has been further ...\n",
       "4  Counsel for appellants contended that who is t..."
      ]
     },
     "execution_count": 4,
     "metadata": {},
     "output_type": "execute_result"
    }
   ],
   "source": [
    "# look at the text data\n",
    "dev_judgement_texts.head()"
   ]
  },
  {
   "cell_type": "code",
   "execution_count": 5,
   "metadata": {},
   "outputs": [],
   "source": [
    "# Convert data into csv files\n",
    "dev_judgement_texts.to_csv('NER_Dev_Judgement.csv')\n",
    "dev_preamble_texts.to_csv('NER_Dev_Preamble.csv')\n",
    "train_judgement_texts.to_csv('NER_Train_Judgement.csv')\n",
    "train_preamble_texts.to_csv('NER_Train_Preamble.csv')"
   ]
  },
  {
   "cell_type": "markdown",
   "metadata": {},
   "source": [
    "### Preview of .csv file\n",
    "\n",
    "```\n",
    ",Text\n",
    "0,\"True, our Constitution has no 'due process' clause or the VIII Amendment; but, in this branch of law, after R.C. Cooper v. Union of India, (1970) 1 SCC 248 and Maneka Gandhi v. Union of India, (1978) 1 SCC 248, the consequence is the same.\"\n",
    "1,\"(See Principles of Statutory Interpretation by Justice G.P. Singh, 9th Edn., 2004 at p. \n",
    "\n",
    " 438.).\"\n",
    "```"
   ]
  },
  {
   "cell_type": "markdown",
   "metadata": {},
   "source": [
    "## Alternatively...\n",
    "- Here is the same thing, except the texts will be in lists - whitespace has been deleted:\n",
    "- **Note**: decided not to strip punctuation because it seems like it might complicate getting the 'DATE' tag later"
   ]
  },
  {
   "cell_type": "code",
   "execution_count": 6,
   "metadata": {},
   "outputs": [],
   "source": [
    "def textOnly2_splitSpace(df):\n",
    "    text_col = list(df['data'])\n",
    "    actual_text = []\n",
    "    for t in text_col:\n",
    "        split_text = [t['text'].split()]\n",
    "        actual_text.append(split_text)\n",
    "    re_text = pd.DataFrame(actual_text, columns=['Text'])\n",
    "    return re_text"
   ]
  },
  {
   "cell_type": "code",
   "execution_count": 7,
   "metadata": {},
   "outputs": [],
   "source": [
    "# get the text column (this one does NOT have whitespace)\n",
    "dev_judgement_texts_noSpace = textOnly2_splitSpace(dev_judgement_df)\n",
    "dev_preamble_texts_noSpace = textOnly2_splitSpace(dev_preamble_df)\n",
    "train_judgement_texts_noSpace = textOnly2_splitSpace(train_judgement_df)\n",
    "train_preamble_texts_noSpace = textOnly2_splitSpace(train_preamble_df)"
   ]
  },
  {
   "cell_type": "code",
   "execution_count": 8,
   "metadata": {},
   "outputs": [
    {
     "data": {
      "text/html": [
       "<div>\n",
       "<style scoped>\n",
       "    .dataframe tbody tr th:only-of-type {\n",
       "        vertical-align: middle;\n",
       "    }\n",
       "\n",
       "    .dataframe tbody tr th {\n",
       "        vertical-align: top;\n",
       "    }\n",
       "\n",
       "    .dataframe thead th {\n",
       "        text-align: right;\n",
       "    }\n",
       "</style>\n",
       "<table border=\"1\" class=\"dataframe\">\n",
       "  <thead>\n",
       "    <tr style=\"text-align: right;\">\n",
       "      <th></th>\n",
       "      <th>Text</th>\n",
       "    </tr>\n",
       "  </thead>\n",
       "  <tbody>\n",
       "    <tr>\n",
       "      <th>0</th>\n",
       "      <td>[True,, our, Constitution, has, no, 'due, proc...</td>\n",
       "    </tr>\n",
       "    <tr>\n",
       "      <th>1</th>\n",
       "      <td>[(See, Principles, of, Statutory, Interpretati...</td>\n",
       "    </tr>\n",
       "    <tr>\n",
       "      <th>2</th>\n",
       "      <td>[Their, Lordships, have, said, --, \"It, is, a,...</td>\n",
       "    </tr>\n",
       "    <tr>\n",
       "      <th>3</th>\n",
       "      <td>[In, para, 13, of, the, plaint,, it, has, been...</td>\n",
       "    </tr>\n",
       "    <tr>\n",
       "      <th>4</th>\n",
       "      <td>[Counsel, for, appellants, contended, that, wh...</td>\n",
       "    </tr>\n",
       "  </tbody>\n",
       "</table>\n",
       "</div>"
      ],
      "text/plain": [
       "                                                Text\n",
       "0  [True,, our, Constitution, has, no, 'due, proc...\n",
       "1  [(See, Principles, of, Statutory, Interpretati...\n",
       "2  [Their, Lordships, have, said, --, \"It, is, a,...\n",
       "3  [In, para, 13, of, the, plaint,, it, has, been...\n",
       "4  [Counsel, for, appellants, contended, that, wh..."
      ]
     },
     "execution_count": 8,
     "metadata": {},
     "output_type": "execute_result"
    }
   ],
   "source": [
    "# preview the data\n",
    "dev_judgement_texts_noSpace.head()"
   ]
  },
  {
   "cell_type": "code",
   "execution_count": 9,
   "metadata": {},
   "outputs": [],
   "source": [
    "# Convert data into csv files\n",
    "dev_judgement_texts_noSpace.to_csv('NER_Dev_Judgement-listed.csv')\n",
    "dev_preamble_texts_noSpace.to_csv('NER_Dev_Preamble-listed.csv')\n",
    "train_judgement_texts_noSpace.to_csv('NER_Train_Judgement-listed.csv')\n",
    "train_preamble_texts_noSpace.to_csv('NER_Train_Preamble-listed.csv')"
   ]
  },
  {
   "cell_type": "markdown",
   "metadata": {},
   "source": [
    "### Preview of .csv file\n",
    "```\n",
    ",Text\n",
    "0,\"['True,', 'our', 'Constitution', 'has', 'no', \"\"'due\"\", \"\"process'\"\", 'clause', 'or', 'the', 'VIII', 'Amendment;', 'but,', 'in', 'this', 'branch', 'of', 'law,', 'after', 'R.C.', 'Cooper', 'v.', 'Union', 'of', 'India,', '(1970)', '1', 'SCC', '248', 'and', 'Maneka', 'Gandhi', 'v.', 'Union', 'of', 'India,', '(1978)', '1', 'SCC', '248,', 'the', 'consequence', 'is', 'the', 'same.']\"\n",
    "1,\"['(See', 'Principles', 'of', 'Statutory', 'Interpretation', 'by', 'Justice', 'G.P.', 'Singh,', '9th', 'Edn.,', '2004', 'at', 'p.', '438.).']\"\n",
    "```"
   ]
  },
  {
   "cell_type": "markdown",
   "metadata": {},
   "source": []
  }
 ],
 "metadata": {
  "kernelspec": {
   "display_name": "Python 3.9.10 64-bit",
   "language": "python",
   "name": "python3"
  },
  "language_info": {
   "codemirror_mode": {
    "name": "ipython",
    "version": 3
   },
   "file_extension": ".py",
   "mimetype": "text/x-python",
   "name": "python",
   "nbconvert_exporter": "python",
   "pygments_lexer": "ipython3",
   "version": "3.9.10"
  },
  "orig_nbformat": 4,
  "vscode": {
   "interpreter": {
    "hash": "aee8b7b246df8f9039afb4144a1f6fd8d2ca17a180786b69acc140d282b71a49"
   }
  }
 },
 "nbformat": 4,
 "nbformat_minor": 2
}
